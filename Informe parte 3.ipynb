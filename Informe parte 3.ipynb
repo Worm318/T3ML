{
 "cells": [
  {
   "cell_type": "markdown",
   "metadata": {},
   "source": [
    "# Preparación del dataset\n",
    "\n",
    "El dataset CIFAR10 es un dataset para experimentar con reconocimiento de imágenes. Consiste en un dataset de 60.000 imágenes pequeñas (32 x 32 pixeles) con 10 clases de objetos (6000 por clase), es decir, cada clase tiene la misma probabilidad.\n",
    "\n",
    "El dataset contiene 50000 ejemplos de entrenamiento y 10000 de prueba. Del conjunto de entrenamiento, se han extraído al azar 10000 ejemplos desde el conjunto de entrenamiento para el conjunto de validación. Por lo que al final se cuenta con 40000 ejemplos de entrenamiento, 10000 de validación y 10000 de prueba."
   ]
  },
  {
   "cell_type": "code",
   "execution_count": 1,
   "metadata": {
    "collapsed": false,
    "scrolled": false
   },
   "outputs": [
    {
     "name": "stdout",
     "output_type": "stream",
     "text": [
      "(40000, 3072)\n",
      "(40000,)\n",
      "(10000, 3072)\n",
      "(10000,)\n",
      "(10000, 3072)\n",
      "(10000,)\n"
     ]
    }
   ],
   "source": [
    "from scipy.misc import imread\n",
    "import cPickle as pickle\n",
    "import numpy as np\n",
    "import os\n",
    " \n",
    "def load_CIFAR_one(filename):\n",
    "    with open(filename, 'rb') as f:\n",
    "        datadict = pickle.load(f)\n",
    "        X = datadict['data']\n",
    "        Y = datadict['labels']\n",
    "    return X, np.array(Y)\n",
    " \n",
    "def load_CIFAR10(PATH):\n",
    "    xs, ys = [], []\n",
    "    for b in range(1,6):\n",
    "        f = os.path.join(PATH, 'data_batch_%d' % b)\n",
    "        X, Y = load_CIFAR_one(f)\n",
    "        xs.append(X)\n",
    "        ys.append(Y)\n",
    "    Xtr = np.concatenate(xs)\n",
    "    Ytr = np.concatenate(ys)\n",
    "    del X, Y\n",
    "    Xte, Yte = load_CIFAR_one(os.path.join(PATH, 'test_batch'))\n",
    " \n",
    "    numero_imagenes = 10000\n",
    "    np.random.seed(2)\n",
    "    seleccion = np.random.choice(50000, numero_imagenes, replace = False)\n",
    " \n",
    "    Xva = np.array(list(Xtr[i] for i in seleccion))\n",
    "    Yva = np.array(list(Ytr[i] for i in seleccion))\n",
    " \n",
    "    Xtr = np.delete(Xtr, seleccion, 0)\n",
    "    Ytr = np.delete(Ytr, seleccion)\n",
    "   \n",
    "    return Xtr, Ytr, Xte, Yte, Xva, Yva\n",
    " \n",
    "#you need to add Xval\n",
    "Xtr, Ytr, Xte, Yte, Xva, Yva = load_CIFAR10('./dataset')\n",
    "\n",
    "print Xtr.shape\n",
    "print Ytr.shape\n",
    "print Xva.shape\n",
    "print Yva.shape\n",
    "print Xte.shape\n",
    "print Yte.shape"
   ]
  },
  {
   "cell_type": "markdown",
   "metadata": {
    "collapsed": false,
    "scrolled": true
   },
   "source": [
    "\n"
   ]
  },
  {
   "cell_type": "markdown",
   "metadata": {
    "collapsed": false
   },
   "source": [
    "b) Construya una función que escale apropiadamente las imágenes antes de trabajar. Experimente sólo escalando los datos de acuerdo a la intensidad máxima de pixel *(i.e., dividiendo por 255)* y luego centrando y escalándolos como en actividades anteriores."
   ]
  },
  {
   "cell_type": "code",
   "execution_count": 23,
   "metadata": {
    "collapsed": false
   },
   "outputs": [],
   "source": [
    "def escalar(data, completo = True):\n",
    "    filas, columnas = data.shape\n",
    "    data = data.astype(np.float64)\n",
    "    if completo:\n",
    "        for i in range(columnas):\n",
    "            data[:filas, i] = (data[:filas, i]- np.mean(data[:filas, i]))/np.std(data[:filas, i])\n",
    "        return data\n",
    "    return data/255.0"
   ]
  },
  {
   "cell_type": "code",
   "execution_count": 24,
   "metadata": {
    "collapsed": false
   },
   "outputs": [
    {
     "name": "stdout",
     "output_type": "stream",
     "text": [
      "El conjunto de training original\n",
      "\n",
      "[[154 126 105 ..., 139 142 144]\n",
      " [255 253 253 ...,  83  83  84]\n",
      " [ 28  37  38 ...,  28  37  46]\n",
      " ..., \n",
      " [145 151 156 ...,  56  53  54]\n",
      " [189 186 185 ..., 169 171 171]\n",
      " [229 236 234 ..., 173 162 161]]\n",
      "\n",
      "\n",
      "El conjunto de training escalando de acuerdo a la intesidad maxima\n",
      "\n",
      "[[ 0.60392157  0.49411765  0.41176471 ...,  0.54509804  0.55686275\n",
      "   0.56470588]\n",
      " [ 1.          0.99215686  0.99215686 ...,  0.3254902   0.3254902\n",
      "   0.32941176]\n",
      " [ 0.10980392  0.14509804  0.14901961 ...,  0.10980392  0.14509804\n",
      "   0.18039216]\n",
      " ..., \n",
      " [ 0.56862745  0.59215686  0.61176471 ...,  0.21960784  0.20784314\n",
      "   0.21176471]\n",
      " [ 0.74117647  0.72941176  0.7254902  ...,  0.6627451   0.67058824\n",
      "   0.67058824]\n",
      " [ 0.89803922  0.9254902   0.91764706 ...,  0.67843137  0.63529412\n",
      "   0.63137255]]\n",
      "\n",
      "\n",
      "El conjunto de training escalando de forma normal\n",
      "\n",
      "[[ 0.31999272 -0.05418421 -0.35724693 ...,  0.38885303  0.43148518\n",
      "   0.44895838]\n",
      " [ 1.69385262  1.69638376  1.68843315 ..., -0.47413728 -0.47321003\n",
      "  -0.45852247]\n",
      " [-1.39393152 -1.2809602  -1.28333183 ..., -1.32171705 -1.17856562\n",
      "  -1.03326035]\n",
      " ..., \n",
      " [ 0.19756956  0.29041578  0.34768337 ..., -0.89022189 -0.93322455\n",
      "  -0.9122629 ]\n",
      " [ 0.79608278  0.77285577  0.74852609 ...,  0.85116927  0.87616588\n",
      "   0.85732477]\n",
      " [ 1.34018572  1.46205576  1.42581206 ...,  0.91281144  0.73816153\n",
      "   0.70607796]]\n"
     ]
    }
   ],
   "source": [
    "print \"El conjunto de training original\\n\"\n",
    "print Xtr\n",
    "print\"\\n\"\n",
    "print\"El conjunto de training escalando de acuerdo a la intesidad maxima\\n\"\n",
    "print escalar(Xtr, False)\n",
    "print\"\\n\"\n",
    "print\"El conjunto de training escalando de forma normal\\n\"\n",
    "print escalar(Xtr)"
   ]
  },
  {
   "cell_type": "markdown",
   "metadata": {},
   "source": [
    "# Redes neuronales artificiales\n",
    "\n",
    ">c) Diseñe, entrene y evalúe una red neuronal para el problema CIFAR a partir de la representación original\n",
    "de las imágenes (píxeles RGB). Experimente con distintas arquitecturas y métodos de entrenamiento, midiendo el error de clasificación sobre el conjunto de validación. En base a esta última medida de desempeñoo, decida qué modelo, de entre todos los evaluados, evaluará finalmente en el conjunto de test.\n",
    "Reporte y discuta los resultados obtenidos. Se espera que logre obtener un error de pruebas menor o igual a $0.5$.\n",
    "\n",
    "Se entrenó una red neuronal con tres parámetros distintos de *epoch* con $e = \\{ 2, 4, 8 \\}$. Se vió que para el valor $e = 8$ fue el mejor valor, mejorando a medida que se aumenta el valor de *epoch*."
   ]
  },
  {
   "cell_type": "code",
   "execution_count": 6,
   "metadata": {
    "collapsed": false
   },
   "outputs": [
    {
     "name": "stderr",
     "output_type": "stream",
     "text": [
      "Using Theano backend.\n",
      "WARNING (theano.configdefaults): g++ not detected ! Theano will be unable to execute optimized C-implementations (for both CPU and GPU) and will default to Python implementations. Performance will be severely degraded. To remove this warning, set Theano flags cxx to an empty string.\n"
     ]
    }
   ],
   "source": [
    "from keras.utils.np_utils import to_categorical\n",
    "from sklearn.preprocessing import StandardScaler\n",
    "\n",
    "def scaler_function(Xtr, Xt, Xva, scale = True):\n",
    "    Xtr, Xt, Xva = Xtr.astype(np.float64), Xt.astype(np.float64), Xva.astype(np.float64)\n",
    "    scaler = StandardScaler(with_std = scale).fit(Xtr)\n",
    "    Xtr_scaled = scaler.transform(Xtr)\n",
    "    Xt_scaled = scaler.transform(Xt)\n",
    "    Xva_scaled = scaler.transform(Xva)\n",
    "    return Xtr_scaled, Xt_scaled, Xva_scaled\n",
    "\n",
    "Xtr_scaled, Xte_scaled, Xva_scaled = scaler_function(Xtr, Xte, Xva)\n",
    "Ytr_categorical = to_categorical(Ytr)\n",
    "Yte_categorical = to_categorical(Yte)\n",
    "Yva_categorical = to_categorical(Yva)"
   ]
  },
  {
   "cell_type": "code",
   "execution_count": 7,
   "metadata": {
    "collapsed": false
   },
   "outputs": [],
   "source": [
    "%matplotlib inline\n",
    "from matplotlib import pyplot as plt\n",
    "from keras.models import Sequential\n",
    "from keras.layers import Dense, Activation, Dropout\n",
    "from keras.optimizers import SGD"
   ]
  },
  {
   "cell_type": "code",
   "execution_count": 33,
   "metadata": {
    "collapsed": false
   },
   "outputs": [
    {
     "name": "stdout",
     "output_type": "stream",
     "text": [
      "Train on 40000 samples, validate on 10000 samples\n",
      "Epoch 1/2\n",
      "40000/40000 [==============================] - 529s - loss: 0.2919 - acc: 0.9008 - val_loss: 0.2727 - val_acc: 0.9022\n",
      "Epoch 2/2\n",
      "40000/40000 [==============================] - 518s - loss: 0.2680 - acc: 0.9031 - val_loss: 0.2607 - val_acc: 0.9041\n",
      "40000/40000 [==============================] - 244s   \n",
      "10000/10000 [==============================] - 61s    \n",
      "\n",
      "Epoch 2 ---> Va. Acc 0.904100   Va. Error 0.095900 | Tr. Acc 0.904265   Tr. Error 0.095735\n",
      "-----------------------------------------------------------------------------------------\n",
      "\n",
      "Train on 40000 samples, validate on 10000 samples\n",
      "Epoch 1/4\n",
      "40000/40000 [==============================] - 528s - loss: 0.2918 - acc: 0.9008 - val_loss: 0.2738 - val_acc: 0.9021\n",
      "Epoch 2/4\n",
      "40000/40000 [==============================] - 534s - loss: 0.2678 - acc: 0.9031 - val_loss: 0.2609 - val_acc: 0.9044\n",
      "Epoch 3/4\n",
      "40000/40000 [==============================] - 544s - loss: 0.2576 - acc: 0.9052 - val_loss: 0.2529 - val_acc: 0.9061\n",
      "Epoch 4/4\n",
      "40000/40000 [==============================] - 520s - loss: 0.2507 - acc: 0.9067 - val_loss: 0.2478 - val_acc: 0.9073\n",
      "40000/40000 [==============================] - 248s   \n",
      "10000/10000 [==============================] - 61s    \n",
      "\n",
      "Epoch 4 ---> Va. Acc 0.907300   Va. Error 0.092700 | Tr. Acc 0.908320   Tr. Error 0.091680\n",
      "-----------------------------------------------------------------------------------------\n",
      "\n",
      "Train on 40000 samples, validate on 10000 samples\n",
      "Epoch 1/8\n",
      "40000/40000 [==============================] - 536s - loss: 0.2901 - acc: 0.9010 - val_loss: 0.2722 - val_acc: 0.9024\n",
      "Epoch 2/8\n",
      "40000/40000 [==============================] - 542s - loss: 0.2667 - acc: 0.9033 - val_loss: 0.2596 - val_acc: 0.9043\n",
      "Epoch 3/8\n",
      "40000/40000 [==============================] - 543s - loss: 0.2575 - acc: 0.9051 - val_loss: 0.2522 - val_acc: 0.9060\n",
      "Epoch 4/8\n",
      "40000/40000 [==============================] - 525s - loss: 0.2511 - acc: 0.9066 - val_loss: 0.2472 - val_acc: 0.9075\n",
      "Epoch 5/8\n",
      "40000/40000 [==============================] - 516s - loss: 0.2461 - acc: 0.9080 - val_loss: 0.2437 - val_acc: 0.9084\n",
      "Epoch 6/8\n",
      "40000/40000 [==============================] - 539s - loss: 0.2419 - acc: 0.9094 - val_loss: 0.2401 - val_acc: 0.9098\n",
      "Epoch 7/8\n",
      "40000/40000 [==============================] - 545s - loss: 0.2389 - acc: 0.9103 - val_loss: 0.2374 - val_acc: 0.9107\n",
      "Epoch 8/8\n",
      "40000/40000 [==============================] - 542s - loss: 0.2358 - acc: 0.9111 - val_loss: 0.2348 - val_acc: 0.9115\n",
      "40000/40000 [==============================] - 258s   \n",
      "10000/10000 [==============================] - 64s    \n",
      "\n",
      "Epoch 8 ---> Va. Acc 0.911450   Va. Error 0.088550 | Tr. Acc 0.913365   Tr. Error 0.086635\n",
      "-----------------------------------------------------------------------------------------\n",
      "\n"
     ]
    }
   ],
   "source": [
    "error_validate_epoch = []\n",
    "error_train_epoch = []\n",
    "\n",
    "for k in range(1,4):\n",
    "    \n",
    "    model = Sequential()\n",
    "    model.add(Dense(100, input_dim=Xtr.shape[1], init='uniform', activation='relu'))\n",
    "    model.add(Dropout(0.1))\n",
    "    model.add(Dense(10, init='uniform', activation='softmax'))\n",
    "    model.compile(optimizer=SGD(lr=0.05), loss='binary_crossentropy', metrics=['accuracy'])\n",
    "    model.fit(Xtr_scaled, Ytr_categorical, nb_epoch=2**k, batch_size=100, verbose=1, validation_data=(Xva_scaled, Yva_categorical))\n",
    "\n",
    "    scores = model.evaluate(Xtr_scaled, Ytr_categorical)\n",
    "    tr_acc = scores[1]\n",
    "    \n",
    "    scores = model.evaluate(Xva_scaled, Yva_categorical)\n",
    "    va_acc = scores[1]\n",
    "    \n",
    "    print \"\\nEpoch %d ---> Va. Acc %f   Va. Error %f | Tr. Acc %f   Tr. Error %f\" %(2**k, va_acc, 1 - va_acc, tr_acc, 1 - tr_acc)\n",
    "    print\"-----------------------------------------------------------------------------------------\\n\"\n",
    "    error_validate_epoch.append(1 - va_acc)\n",
    "    error_train_epoch.append(1 - tr_acc)"
   ]
  },
  {
   "cell_type": "markdown",
   "metadata": {},
   "source": [
    "Al observar el gráfico se puede ver que el error pareciera disminuir linealmente. Se deberían hacer más pruebas con más posibles valores para el parámetro para verificar esta afirmación pues los errores no varían tanto."
   ]
  },
  {
   "cell_type": "code",
   "execution_count": 34,
   "metadata": {
    "collapsed": false
   },
   "outputs": [
    {
     "data": {
      "image/png": "[encoded data removed]",
      "text/plain": [
       "<matplotlib.figure.Figure at 0xeff10b8>"
      ]
     },
     "metadata": {},
     "output_type": "display_data"
    }
   ],
   "source": [
    "potencias = [2**x for x in range(1, 4)]\n",
    "\n",
    "plt.plot(potencias, error_train_epoch, 'go--', label='Train Error')\n",
    "plt.plot(potencias, error_validate_epoch, 'go-', label= 'Validation Error')\n",
    "\n",
    "plt.legend(bbox_to_anchor=(1.05, 1), loc=2, borderaxespad=0.)\n",
    "\n",
    "plt.title('Error vs Epoch', y=1.08)\n",
    "plt.xlabel('Epoch')\n",
    "plt.ylabel('Error')\n",
    "plt.show()"
   ]
  },
  {
   "cell_type": "markdown",
   "metadata": {},
   "source": [
    "Luego, se probó variando el número $n$ de neuronas con $n = \\{ 100, 150, 200\\}$. Nuevamente los errores no varían tanto, pero el que dió mejor fue usando 200 neuronas lo cual es esperable puesto que con más neuronas el modelo puede aprender más de los datos. Sin embargo, la mejora no es muy significativa"
   ]
  },
  {
   "cell_type": "code",
   "execution_count": null,
   "metadata": {
    "collapsed": false,
    "scrolled": false
   },
   "outputs": [
    {
     "name": "stdout",
     "output_type": "stream",
     "text": [
      "Train on 40000 samples, validate on 10000 samples\n",
      "Epoch 1/2\n",
      "40000/40000 [==============================] - 537s - loss: 0.2914 - acc: 0.9008 - val_loss: 0.2731 - val_acc: 0.9022\n",
      "Epoch 2/2\n",
      "40000/40000 [==============================] - 625s - loss: 0.2675 - acc: 0.9033 - val_loss: 0.2604 - val_acc: 0.9046\n",
      "40000/40000 [==============================] - 878s - loss: 0.2873 - acc: 0.9011 - val_loss: 0.2692 - val_acc: 0.9031\n",
      "Epoch 2/2\n",
      "40000/40000 [==============================] - 868s - loss: 0.2639 - acc: 0.9039 - val_loss: 0.2570 - val_acc: 0.9052\n",
      "40000/40000 [==============================] - 386s   \n",
      "10000/10000 [==============================] - 95s    \n",
      "\n",
      "Neuronas 150 ---> Va. Acc 0.905220   Va. Error 0.094780 | Tr. Acc 0.905755   Tr. Error 0.094245\n",
      "-----------------------------------------------------------------------------------------\n",
      "\n",
      "Train on 40000 samples, validate on 10000 samples\n",
      "Epoch 1/2\n",
      "40000/40000 [==============================] - 1055s - loss: 0.2852 - acc: 0.9013 - val_loss: 0.2670 - val_acc: 0.9029\n",
      "Epoch 2/2\n",
      "40000/40000 [==============================] - 1087s - loss: 0.2613 - acc: 0.9046 - val_loss: 0.2546 - val_acc: 0.9061\n",
      "40000/40000 [==============================] - 491s   \n",
      "10000/10000 [==============================] - 125s   \n",
      "\n",
      "Neuronas 200 ---> Va. Acc 0.906060   Va. Error 0.093940 | Tr. Acc 0.906520   Tr. Error 0.093480\n",
      "-----------------------------------------------------------------------------------------\n",
      "\n"
     ]
    }
   ],
   "source": [
    "error_validate_epoch = []\n",
    "error_train_epoch = []\n",
    "\n",
    "for k in [100, 150, 200]:\n",
    "    \n",
    "    model = Sequential()\n",
    "    model.add(Dense(k, input_dim=Xtr.shape[1], init='uniform', activation='relu'))\n",
    "    model.add(Dropout(0.1))\n",
    "    model.add(Dense(10, init='uniform', activation='softmax'))\n",
    "    model.compile(optimizer=SGD(lr=0.05), loss='binary_crossentropy', metrics=['accuracy'])\n",
    "    model.fit(Xtr_scaled, Ytr_categorical, nb_epoch=2, batch_size=100, verbose=1, validation_data=(Xva_scaled, Yva_categorical))\n",
    "\n",
    "    scores = model.evaluate(Xtr_scaled, Ytr_categorical)\n",
    "    tr_acc = scores[1]\n",
    "    \n",
    "    scores = model.evaluate(Xva_scaled, Yva_categorical)\n",
    "    va_acc = scores[1]\n",
    "    \n",
    "    print \"\\nNeuronas %d ---> Va. Acc %f   Va. Error %f | Tr. Acc %f   Tr. Error %f\" %(k, va_acc, 1 - va_acc, tr_acc, 1 - tr_acc)\n",
    "    print\"-----------------------------------------------------------------------------------------\\n\"\n",
    "    \n",
    "    error_validate_epoch.append(1 - va_acc)\n",
    "    error_train_epoch.append(1 - tr_acc)"
   ]
  },
  {
   "cell_type": "code",
   "execution_count": null,
   "metadata": {
    "collapsed": true
   },
   "outputs": [],
   "source": [
    "plt.plot([5, 10, 15], error_train_epoch, 'go--', label='Train Error')\n",
    "plt.plot([5, 10, 15], error_validate_epoch, 'go-', label= 'Validation Error')\n",
    "\n",
    "plt.legend(bbox_to_anchor=(1.05, 1), loc=2, borderaxespad=0.)\n",
    "\n",
    "plt.title('Error vs Epoch', y=1.08)\n",
    "plt.xlabel('Neuronas Ocultas')\n",
    "plt.ylabel('Error')\n",
    "plt.show()"
   ]
  },
  {
   "cell_type": "markdown",
   "metadata": {},
   "source": [
    "Finalmente, se probó cambiando la función de activación probando con *softmax*, *sigmoid* y *relu*. El mejor fue *softmax*, seguido de cerca por *sigmoid* ambos con un *accuracy* cercano a 0.90 en el conjunto de validación. La función de activación *relu*, sin embargo, tuvo un desempeño más decadente logrando solamente un *accuracy* de 0.81."
   ]
  },
  {
   "cell_type": "code",
   "execution_count": 11,
   "metadata": {
    "collapsed": false
   },
   "outputs": [
    {
     "name": "stdout",
     "output_type": "stream",
     "text": [
      "Train on 40000 samples, validate on 10000 samples\n",
      "Epoch 1/2\n",
      "40000/40000 [==============================] - 520s - loss: 0.2922 - acc: 0.9006 - val_loss: 0.2734 - val_acc: 0.9021\n",
      "Epoch 2/2\n",
      "40000/40000 [==============================] - 521s - loss: 0.2674 - acc: 0.9032 - val_loss: 0.2602 - val_acc: 0.9046\n",
      "40000/40000 [==============================] - 242s   \n",
      "10000/10000 [==============================] - 60s    \n",
      "\n",
      "Softmax ---> Va. Acc 0.904560   Va. Error 0.095440 | Tr. Acc 0.904722   Tr. Error 0.095278\n",
      "-----------------------------------------------------------------------------------------\n",
      "\n",
      "Train on 40000 samples, validate on 10000 samples\n",
      "Epoch 1/2\n",
      "40000/40000 [==============================] - 523s - loss: 0.3180 - acc: 0.8962 - val_loss: 0.2863 - val_acc: 0.9021\n",
      "Epoch 2/2\n",
      "40000/40000 [==============================] - 521s - loss: 0.2800 - acc: 0.9020 - val_loss: 0.2732 - val_acc: 0.9032\n",
      "40000/40000 [==============================] - 244s   \n",
      "10000/10000 [==============================] - 61s    \n",
      "\n",
      "Sigmoid ---> Va. Acc 0.903180   Va. Error 0.096820 | Tr. Acc 0.902910   Tr. Error 0.097090\n",
      "-----------------------------------------------------------------------------------------\n",
      "\n",
      "Train on 40000 samples, validate on 10000 samples\n",
      "Epoch 1/2\n",
      "40000/40000 [==============================] - 559s - loss: 2.7817 - acc: 0.8114 - val_loss: 2.8870 - val_acc: 0.8099\n",
      "Epoch 2/2\n",
      "40000/40000 [==============================] - 557s - loss: 2.8386 - acc: 0.8100 - val_loss: 2.8874 - val_acc: 0.8099\n",
      "40000/40000 [==============================] - 252s   \n",
      "10000/10000 [==============================] - 62s    \n",
      "\n",
      "Relu ---> Va. Acc 0.809940   Va. Error 0.190060 | Tr. Acc 0.810017   Tr. Error 0.189983\n",
      "-----------------------------------------------------------------------------------------\n",
      "\n"
     ]
    }
   ],
   "source": [
    "model = Sequential()\n",
    "model.add(Dense(100, input_dim=Xtr.shape[1], init='uniform', activation='relu'))\n",
    "model.add(Dropout(0.1))\n",
    "model.add(Dense(10, init='uniform', activation='softmax'))\n",
    "model.compile(optimizer=SGD(lr=0.05), loss='binary_crossentropy', metrics=['accuracy'])\n",
    "model.fit(Xtr_scaled, Ytr_categorical, nb_epoch= 2, batch_size=100, verbose=1, validation_data=(Xva_scaled, Yva_categorical))\n",
    "\n",
    "scores = model.evaluate(Xtr_scaled, Ytr_categorical)\n",
    "tr_acc = scores[1]\n",
    "\n",
    "scores = model.evaluate(Xva_scaled, Yva_categorical)\n",
    "va_acc = scores[1]\n",
    "\n",
    "\n",
    "softmax = (va_acc, 1 - va_acc, tr_acc, 1 - tr_acc)\n",
    "print \"\\nSoftmax ---> Va. Acc %f   Va. Error %f | Tr. Acc %f   Tr. Error %f\" %(va_acc, 1 - va_acc, tr_acc, 1 - tr_acc)\n",
    "print\"-----------------------------------------------------------------------------------------\\n\"\n",
    "\n",
    "\n",
    "model = Sequential()\n",
    "model.add(Dense(100, input_dim=Xtr.shape[1], init='uniform', activation='relu'))\n",
    "model.add(Dropout(0.1))\n",
    "model.add(Dense(10, init='uniform', activation='sigmoid'))\n",
    "model.compile(optimizer=SGD(lr=0.05), loss='binary_crossentropy', metrics=['accuracy'])\n",
    "model.fit(Xtr_scaled, Ytr_categorical, nb_epoch= 2, batch_size=100, verbose=1, validation_data=(Xva_scaled, Yva_categorical))\n",
    "\n",
    "scores = model.evaluate(Xtr_scaled, Ytr_categorical)\n",
    "tr_acc = scores[1]\n",
    "\n",
    "scores = model.evaluate(Xva_scaled, Yva_categorical)\n",
    "va_acc = scores[1]\n",
    "\n",
    "sigmoid = (va_acc, 1 - va_acc, tr_acc, 1 - tr_acc)\n",
    "print \"\\nSigmoid ---> Va. Acc %f   Va. Error %f | Tr. Acc %f   Tr. Error %f\" %(va_acc, 1 - va_acc, tr_acc, 1 - tr_acc)\n",
    "print\"-----------------------------------------------------------------------------------------\\n\"\n",
    "\n",
    "\n",
    "model = Sequential()\n",
    "model.add(Dense(100, input_dim=Xtr.shape[1], init='uniform', activation='relu'))\n",
    "model.add(Dropout(0.1))\n",
    "model.add(Dense(10, init='uniform', activation='relu'))\n",
    "model.compile(optimizer=SGD(lr=0.05), loss='binary_crossentropy', metrics=['accuracy'])\n",
    "model.fit(Xtr_scaled, Ytr_categorical, nb_epoch= 2, batch_size=100, verbose=1, validation_data=(Xva_scaled, Yva_categorical))\n",
    "\n",
    "scores = model.evaluate(Xtr_scaled, Ytr_categorical)\n",
    "tr_acc = scores[1]\n",
    "\n",
    "scores = model.evaluate(Xva_scaled, Yva_categorical)\n",
    "va_acc = scores[1]\n",
    "\n",
    "relu = (va_acc, 1 - va_acc, tr_acc, 1 - tr_acc)\n",
    "print \"\\nRelu ---> Va. Acc %f   Va. Error %f | Tr. Acc %f   Tr. Error %f\" %(va_acc, 1 - va_acc, tr_acc, 1 - tr_acc)\n",
    "print\"-----------------------------------------------------------------------------------------\\n\""
   ]
  },
  {
   "cell_type": "markdown",
   "metadata": {},
   "source": [
    "# SVM No Lineal\n",
    "\n",
    ">(e) Entrene una SVM no lineal sobre los pixeles originales y sobre los atributos de alto nivel utilizados para\n",
    "representar las imágenes en el item anterior. Puede utilizar el conjunto de validación para seleccionar\n",
    "hiper-parámetros, como el nivel de regularización aplicado y/o la función de kernel a utilizar.\n",
    "\n",
    "Para el entrenamiento de la SVM no lineal se consideraron los pixeles originales de las imágenes junto a las características de alto nivel (histogramas de tono y descriptores HOG) con escalamiento."
   ]
  },
  {
   "cell_type": "code",
   "execution_count": 2,
   "metadata": {
    "collapsed": false,
    "scrolled": true
   },
   "outputs": [
    {
     "name": "stdout",
     "output_type": "stream",
     "text": [
      "22:14:21.214893\n",
      "(40000, 32, 32, 3)\n",
      "22:15:43.075564\n",
      "(10000, 32, 32, 3)\n",
      "22:16:03.425401\n",
      "(10000, 32, 32, 3)\n",
      "22:16:24.316927\n"
     ]
    }
   ],
   "source": [
    "from sklearn.preprocessing import StandardScaler\n",
    "from top_level_features import hog_features\n",
    "from top_level_features import color_histogram_hsv\n",
    "from top_level_features import extract_features\n",
    "import datetime\n",
    "\n",
    "Xtr, Ytr, Xte, Yte, Xva, Yva = load_CIFAR10('./dataset')\n",
    "\n",
    "print datetime.datetime.now().time()\n",
    "feat = extract_features(Xtr,[hog_features, color_histogram_hsv])\n",
    "Xtrf = np.concatenate((Xtr,feat),axis=1)\n",
    "print datetime.datetime.now().time()\n",
    "feat = extract_features(Xva,[hog_features, color_histogram_hsv])\n",
    "Xvaf = np.concatenate((Xva,feat),axis=1)\n",
    "print datetime.datetime.now().time()\n",
    "feat = extract_features(Xte,[hog_features, color_histogram_hsv])\n",
    "Xtef = np.concatenate((Xte,feat),axis=1)\n",
    "print datetime.datetime.now().time()\n",
    "\n",
    "scaler = StandardScaler().fit(Xtrf)\n",
    "Xtrs = scaler.transform(Xtrf)\n",
    "Xvas = scaler.transform(Xvaf)\n",
    "Xtes = scaler.transform(Xtef)"
   ]
  },
  {
   "cell_type": "markdown",
   "metadata": {},
   "source": [
    "Se selecciono el kernel a utilizar y el parámetro de regularización C con un método iterativo. Primero, se probó cual de los dos kernels a utilizar con $C=1.0$. Luego de seleccionado el kernel, se probó cual valor para $C$ era mejor con $C \\in \\{ 0.1, 1, 10 \\}$. Cabe notar que por limitaciones de tiempo se limitó la ejecución del solver interno de la SVM a 300 iteraciones.\n",
    "\n",
    "Se obtuvó así una SVM no lineal haciendo uso de un kernel Gaussiano con un C = 1.0. El *accuracy* en el conjunto de entrenamiento fue de 0.4732, en el conjunto de validación de 0.4261 y en el conjunto de pruebas 0.4253. Este resultado podría mejorarse haciendo uso de más iteraciones en el solver o dejar que la optimización se complete."
   ]
  },
  {
   "cell_type": "code",
   "execution_count": 3,
   "metadata": {
    "collapsed": false,
    "scrolled": false
   },
   "outputs": [
    {
     "name": "stdout",
     "output_type": "stream",
     "text": [
      "22:22:03.658636\n"
     ]
    },
    {
     "name": "stderr",
     "output_type": "stream",
     "text": [
      "/home/worm/anaconda2/lib/python2.7/site-packages/sklearn/svm/base.py:224: ConvergenceWarning: Solver terminated early (max_iter=300).  Consider pre-processing your data with StandardScaler or MinMaxScaler.\n",
      "  % self.max_iter, ConvergenceWarning)\n"
     ]
    },
    {
     "name": "stdout",
     "output_type": "stream",
     "text": [
      "Kernel=poly, C=1.000000, score=0.143400\n",
      "22:48:32.655011\n",
      "Kernel=rbf, C=1.000000, score=0.426100\n",
      "23:18:50.436049\n",
      "Kernel=rbf, C=0.100000, score=0.328100\n",
      "23:47:43.741294\n",
      "Kernel=rbf, C=10.000000, score=0.398400\n",
      "00:18:50.089056\n",
      "7006.668371 segundos\n",
      "Mejor kernel: rbf\n",
      "Mejor C: 1.0\n",
      "Score train: 0.4732\n",
      "Score valid: 0.4261\n",
      "Score test: 0.4253\n"
     ]
    }
   ],
   "source": [
    "from sklearn.svm import SVC\n",
    "import time\n",
    "import datetime\n",
    "\n",
    "def get_best_SVC(Xtr,Ytr,Xva,Yva):\n",
    "    kernels = ['poly','rbf']\n",
    "    possible_C = [0.1,10.0] #C=1.0 se prueba cuando se prueban los kernels\n",
    "    best_score = 0\n",
    "    best_model = SVC()\n",
    "    best_kernel = 'rbf'\n",
    "    best_C = 1.0\n",
    "    print datetime.datetime.now().time()\n",
    "    #primero seleccionamos el kernel\n",
    "    for k in kernels:\n",
    "        model = SVC(kernel = k, random_state = 0, max_iter = 300)\n",
    "        model.fit(Xtr, Ytr)\n",
    "        score = model.score(Xva,Yva)\n",
    "        if( score >= best_score ):\n",
    "            best_score = score\n",
    "            best_model = model\n",
    "            best_kernel = k\n",
    "            best_C = 1.0\n",
    "        print \"Kernel=%s, C=%f, score=%f\"%(k,1.0,score)\n",
    "        print datetime.datetime.now().time()\n",
    "    \n",
    "    #luego seleccionamos C\n",
    "    for Ct in possible_C:\n",
    "        model = SVC(kernel = best_kernel, C=Ct, random_state = 0, max_iter = 300)\n",
    "        model.fit(Xtr, Ytr)\n",
    "        score = model.score(Xva,Yva)\n",
    "        if( score >= best_score ):\n",
    "            best_score = score\n",
    "            best_model = model\n",
    "            best_C = Ct\n",
    "        print \"Kernel=%s, C=%f, score=%f\"%(best_kernel,Ct,score)\n",
    "        print datetime.datetime.now().time()\n",
    "    return best_model, best_kernel, best_C, best_score\n",
    "    \n",
    "start = time.time()\n",
    "best_SVC, best_kernel, best_C, best_SVC_score = get_best_SVC(Xtrs,Ytr,Xvas,Yva)\n",
    "end = time.time()\n",
    "print \"%f segundos\"%(end-start)\n",
    "print \"Mejor kernel:\", best_kernel\n",
    "print \"Mejor C:\", best_C\n",
    "print \"Score train:\",best_SVC.score(Xtrs, Ytr)\n",
    "print \"Score valid:\",best_SVC_score\n",
    "print \"Score test:\",best_SVC.score(Xtes, Yte)"
   ]
  },
  {
   "cell_type": "markdown",
   "metadata": {},
   "source": [
    "Al entrenar la SVM completa con los parámetros obtenidos previamente se puede mejorar bastante el resultado. El *accuracy* obtenido fue de 0.7961 para el conjunto de entrenamiento, 0.6237 para el conjunto de validación y de 0.618 para el conjunto de pruebas."
   ]
  },
  {
   "cell_type": "code",
   "execution_count": 5,
   "metadata": {
    "collapsed": false,
    "scrolled": false
   },
   "outputs": [
    {
     "name": "stdout",
     "output_type": "stream",
     "text": [
      "01:29:02.806582\n",
      "10706.278124 segundos\n",
      "Mejor kernel: rbf\n",
      "Mejor C: 1.0\n",
      "Score train: 0.79615\n",
      "Score valid: 0.6237\n",
      "Score test: 0.618\n",
      "06:12:11.883237\n"
     ]
    }
   ],
   "source": [
    "from sklearn.svm import SVC\n",
    "import time\n",
    "import datetime\n",
    "   \n",
    "print datetime.datetime.now().time()\n",
    "start = time.time()\n",
    "model_SVC = SVC(kernel = best_kernel, C=best_C, random_state = 0)\n",
    "model_SVC.fit(Xtrs,Ytr)\n",
    "end = time.time()\n",
    "print \"%f segundos\"%(end-start)\n",
    "print \"Mejor kernel:\", best_kernel\n",
    "print \"Mejor C:\", best_C\n",
    "print \"Score train:\",best_SVC.score(Xtrs, Ytr)\n",
    "print \"Score valid:\",best_SVC.score(Xvas, Yva)\n",
    "print \"Score test:\",best_SVC.score(Xtes, Yte)\n",
    "print datetime.datetime.now().time()"
   ]
  },
  {
   "cell_type": "markdown",
   "metadata": {},
   "source": [
    "# Árbol de Decisión\n",
    "\n",
    ">(f) Entrene un árbol de clasificación sobre los pixeles originales y sobre los atributos de alto nivel utilizados para representar las imágenes en el item anterior. Puede utilizar el conjunto de validación para seleccionar hiper-parámetros, como la profundidad máxima del árbol.\n",
    "\n",
    "Para el entrenamiento del árbol se consideraron los pixeles originales de las imágenes junto a las características de alto nivel (histogramas de tono y descriptores HOG) sin escalamiento."
   ]
  },
  {
   "cell_type": "code",
   "execution_count": 2,
   "metadata": {
    "collapsed": false,
    "scrolled": true
   },
   "outputs": [
    {
     "name": "stdout",
     "output_type": "stream",
     "text": [
      "15:49:31.505173\n",
      "(40000, 32, 32, 3)\n",
      "15:50:53.801199\n",
      "(10000, 32, 32, 3)\n",
      "15:51:14.402433\n",
      "(10000, 32, 32, 3)\n",
      "15:51:35.538437\n"
     ]
    }
   ],
   "source": [
    "from top_level_features import hog_features\n",
    "from top_level_features import color_histogram_hsv\n",
    "from top_level_features import extract_features\n",
    "import datetime\n",
    "\n",
    "Xtr, Ytr, Xte, Yte, Xva, Yva = load_CIFAR10('./dataset')\n",
    "\n",
    "print datetime.datetime.now().time()\n",
    "feat = extract_features(Xtr,[hog_features, color_histogram_hsv])\n",
    "Xtrf = np.concatenate((Xtr,feat),axis=1)\n",
    "print datetime.datetime.now().time()\n",
    "feat = extract_features(Xva,[hog_features, color_histogram_hsv])\n",
    "Xvaf = np.concatenate((Xva,feat),axis=1)\n",
    "print datetime.datetime.now().time()\n",
    "feat = extract_features(Xte,[hog_features, color_histogram_hsv])\n",
    "Xtef = np.concatenate((Xte,feat),axis=1)\n",
    "print datetime.datetime.now().time()"
   ]
  },
  {
   "cell_type": "markdown",
   "metadata": {},
   "source": [
    "Se limitó la altura del árbol. Previamente se probó con parámetros por defecto y se obtuvó un árbol de 44 niveles de profundidad el cual generaba un serio sobre-ajuste (*accuracy* de 1.0 en el conjunto de entrenamiento y de 0.2 en el conjunto de pruebas).\n",
    "\n",
    "Para seleccionar una buena profundidad se seleccionó la profundidad máxima $d \\in \\{2,4,8,16,32\\}$ que tuviera mejor *accuracy* sobre el conjunto de validación. \n",
    "\n",
    "El mejor árbol encontrado fue con 8 niveles de profundidad. Si la profundidad del árbol hubiese sido más grande no empeoraba considerablemente la *accuracy* sobre el conjunto de validación. Con 16 y 32 niveles la *accuracy* era apenas un 0.1 y 0.2 menor que con 8 niveles, respectivamente.\n",
    "\n",
    "El árbol de 8 niveles obtenido logró un *accuracy* cercano a 0.3 en todos los conjuntos, con un *accuracy* de 0.3757 en el conjunto de entrenamiento, de 0.3075 en el conjunto de validación y de 0.3177 en el conjunto de pruebas."
   ]
  },
  {
   "cell_type": "code",
   "execution_count": 6,
   "metadata": {
    "collapsed": false,
    "scrolled": true
   },
   "outputs": [
    {
     "name": "stdout",
     "output_type": "stream",
     "text": [
      "14:52:48.145623\n",
      "Depth=2, score=0.190100\n",
      "14:53:11.751494\n",
      "Depth=4, score=0.243700\n",
      "14:53:57.763704\n",
      "Depth=8, score=0.307500\n",
      "14:55:36.248859\n",
      "Depth=16, score=0.292500\n",
      "14:59:02.498599\n",
      "Depth=32, score=0.281000\n",
      "15:02:55.944288\n",
      "607.799025 segundos\n",
      "Mejor profundidad: 8\n",
      "Score train: 0.3757\n",
      "Score valid: 0.3075\n",
      "Score test: 0.3177\n"
     ]
    }
   ],
   "source": [
    "from sklearn.tree import DecisionTreeClassifier as CTree\n",
    "import time\n",
    "import datetime\n",
    "\n",
    "def get_best_tree(Xtr,Ytr,Xva,Yva):\n",
    "    #se probó previamente que la profundidad por defecto quedaba en 44\n",
    "    #con un serio over-fitting siendo peor su rendimiento que un arbol testeado con profundidad 10\n",
    "    depths = [2,4,8,16,32]\n",
    "    best_score = 0\n",
    "    best_model = CTree()\n",
    "    best_depth = 0\n",
    "    print datetime.datetime.now().time()\n",
    "    for depth in depths:\n",
    "        model = CTree(max_depth = depth)\n",
    "        model.fit(Xtr, Ytr)\n",
    "        score = model.score(Xva,Yva)\n",
    "        if( score >= best_score ):\n",
    "            best_score = score\n",
    "            best_model = model\n",
    "            best_depth = depth\n",
    "        print \"Depth=%d, score=%f\"%(depth,score)\n",
    "        print datetime.datetime.now().time()\n",
    "    return best_model, best_depth, best_score\n",
    "\n",
    "start = time.time()\n",
    "best_model, best_depth, best_score = get_best_tree(Xtrf,Ytr,Xvaf,Yva)\n",
    "end = time.time()\n",
    "print \"%f segundos\"%(end-start)\n",
    "print \"Mejor profundidad:\", best_depth\n",
    "print \"Score train:\",best_model.score(Xtrf, Ytr)\n",
    "print \"Score valid:\",best_score\n",
    "print \"Score test:\",best_model.score(Xtef, Yte)"
   ]
  },
  {
   "cell_type": "markdown",
   "metadata": {
    "collapsed": false
   },
   "source": [
    "# Conclusiones\n",
    "\n",
    "Se probaron varios clasificadores no lineales para el dataset CIFAR10 que contempla clasificación de imagenes. Los clasificadores probados fueron: ANN (red neuronal artificial), SVM y Árbol de clasificación\n",
    "\n",
    "El mejor clasificador pareciera ser las ANN con un *accuracy* cercano al 90% sobre el conjunto de validación.\n",
    "\n",
    "Luego, la SVM no lineal logró un *accuracy* de 0.623 sobre el conjunto de validación y de 0.618 sobre el conjunto de pruebas. Se debe notar que el ajuste de parámetros se realizó limitando el número de iteraciones para la optimización.\n",
    "\n",
    "Finalmente, el árbol de decisión tuvo el peor desempeño con un *accuracy* de 0.3075 en el conjunto de validación y de 0.3177 sobre el conjunto de pruebas."
   ]
  }
 ],
 "metadata": {
  "kernelspec": {
   "display_name": "Python [Root]",
   "language": "python",
   "name": "Python [Root]"
  },
  "language_info": {
   "codemirror_mode": {
    "name": "ipython",
    "version": 2
   },
   "file_extension": ".py",
   "mimetype": "text/x-python",
   "name": "python",
   "nbconvert_exporter": "python",
   "pygments_lexer": "ipython2",
   "version": "2.7.12"
  }
 },
 "nbformat": 4,
 "nbformat_minor": 0
}
